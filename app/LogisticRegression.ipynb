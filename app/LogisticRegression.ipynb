{
 "cells": [
  {
   "cell_type": "code",
   "execution_count": 3,
   "metadata": {},
   "outputs": [],
   "source": [
    "import pandas as pd\n",
    "import numpy as np\n",
    "from sklearn.model_selection import train_test_split\n",
    "from sklearn.linear_model import LogisticRegression\n",
    "from sklearn.metrics import accuracy_score\n",
    "import pickle as pk\n",
    "\n",
    "# loading data into dataframes using pandas\n",
    "data = pd.read_csv(\"../Datasets/sonar data.csv\", header = None)\n",
    "# ''' header defines that the column names are present or not by default it is, since \n",
    "# file didn't have so we choose none'''\n"
   ]
  },
  {
   "cell_type": "code",
   "execution_count": 4,
   "metadata": {},
   "outputs": [
    {
     "name": "stdout",
     "output_type": "stream",
     "text": [
      "(208, 60) (166, 60) (42, 60)\n"
     ]
    }
   ],
   "source": [
    "data.head()\n",
    "# top 5 rows\n",
    "\n",
    "# separating the data and labels\n",
    "X = data.drop(columns = 60)\n",
    "# drop is used to return the frame with removed column or row\n",
    "# other syntax columns = 60 ==> 60, axis =1 for column\n",
    "# for row index = 60 ==> 60,axis =0 by default it is '0'.\n",
    "\n",
    "Y = data[60]\n",
    "\n",
    "X_train, X_test, Y_train, Y_test = train_test_split(X, Y , test_size=0.2,\n",
    "                                                    stratify=Y, random_state=1)\n",
    "print(X.shape, X_train.shape,X_test.shape)\n",
    "model = LogisticRegression()\n",
    "# loading the logistic regression function into model variable"
   ]
  },
  {
   "cell_type": "code",
   "execution_count": 6,
   "metadata": {},
   "outputs": [
    {
     "name": "stdout",
     "output_type": "stream",
     "text": [
      "Training accuracy:  0.8433734939759037\n"
     ]
    }
   ],
   "source": [
    "model.fit(X_train, Y_train)\n",
    "# accuracy on training data\n",
    "X_train_prediction = model.predict(X_train) # model predict the label for training data.\n",
    "training_accuracy = accuracy_score(X_train_prediction, Y_train) # comparing the predicted label with actual output\n",
    "print('Training accuracy: ', training_accuracy)\n",
    "\n"
   ]
  },
  {
   "cell_type": "code",
   "execution_count": 8,
   "metadata": {},
   "outputs": [
    {
     "name": "stdout",
     "output_type": "stream",
     "text": [
      "Testing accuracy:  0.6904761904761905\n"
     ]
    }
   ],
   "source": [
    "# accuracy on testing data\n",
    "X_test_prediction = model.predict(X_test) # model predict the label for testing data.\n",
    "testing_accuracy = accuracy_score(X_test_prediction, Y_test) # comparing the predicted label with actual output\n",
    "print('Testing accuracy: ', testing_accuracy)"
   ]
  },
  {
   "cell_type": "code",
   "execution_count": 9,
   "metadata": {},
   "outputs": [],
   "source": [
    "# saving the mode into a file \n",
    "with open('model.pkl', 'wb') as file:\n",
    "    pk.dump(model, file)"
   ]
  },
  {
   "cell_type": "code",
   "execution_count": null,
   "metadata": {},
   "outputs": [],
   "source": []
  }
 ],
 "metadata": {
  "kernelspec": {
   "display_name": "Python 3",
   "language": "python",
   "name": "python3"
  },
  "language_info": {
   "codemirror_mode": {
    "name": "ipython",
    "version": 3
   },
   "file_extension": ".py",
   "mimetype": "text/x-python",
   "name": "python",
   "nbconvert_exporter": "python",
   "pygments_lexer": "ipython3",
   "version": "3.11.2"
  }
 },
 "nbformat": 4,
 "nbformat_minor": 2
}
